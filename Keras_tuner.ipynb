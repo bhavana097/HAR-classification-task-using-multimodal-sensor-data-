{
 "cells": [
  {
   "cell_type": "code",
   "execution_count": 33,
   "metadata": {},
   "outputs": [],
   "source": [
    "import pandas as pd\n",
    "from sklearn import preprocessing \n",
    "import tensorflow as tf\n",
    "from sklearn.model_selection import train_test_split\n",
    "from tensorflow import keras\n",
    "import keras_tuner as kt\n",
    "import numpy as np\n",
    "import matplotlib.pyplot as plt\n",
    "from sklearn.metrics import confusion_matrix, plot_confusion_matrix\n",
    "import scikitplot as skplt"
   ]
  },
  {
   "cell_type": "code",
   "execution_count": 34,
   "metadata": {},
   "outputs": [],
   "source": [
    "data = pd.read_csv('dataset.csv')"
   ]
  },
  {
   "cell_type": "code",
   "execution_count": 35,
   "metadata": {},
   "outputs": [
    {
     "data": {
      "text/html": [
       "<div>\n",
       "<style scoped>\n",
       "    .dataframe tbody tr th:only-of-type {\n",
       "        vertical-align: middle;\n",
       "    }\n",
       "\n",
       "    .dataframe tbody tr th {\n",
       "        vertical-align: top;\n",
       "    }\n",
       "\n",
       "    .dataframe thead th {\n",
       "        text-align: right;\n",
       "    }\n",
       "</style>\n",
       "<table border=\"1\" class=\"dataframe\">\n",
       "  <thead>\n",
       "    <tr style=\"text-align: right;\">\n",
       "      <th></th>\n",
       "      <th>Unnamed: 0</th>\n",
       "      <th>Waist_accX</th>\n",
       "      <th>Waist_accY</th>\n",
       "      <th>Waist_accZ</th>\n",
       "      <th>Waist_gyroX</th>\n",
       "      <th>Waist_gyroY</th>\n",
       "      <th>Waist_gyroZ</th>\n",
       "      <th>Wrist_accX</th>\n",
       "      <th>Wrist_accY</th>\n",
       "      <th>Wrist_accZ</th>\n",
       "      <th>...</th>\n",
       "      <th>Ktch_Motion_1</th>\n",
       "      <th>Ktch_B1_Draw</th>\n",
       "      <th>Ktch_T2_Cupboard</th>\n",
       "      <th>Ktch_Motion_2</th>\n",
       "      <th>Ktch_T1_Cupboard</th>\n",
       "      <th>Ktch_B2_Cupboard</th>\n",
       "      <th>Ktch_B3_Cupboard</th>\n",
       "      <th>Ktch_T3_Cupboard</th>\n",
       "      <th>TP_L_Power</th>\n",
       "      <th>Target_class</th>\n",
       "    </tr>\n",
       "  </thead>\n",
       "  <tbody>\n",
       "    <tr>\n",
       "      <th>0</th>\n",
       "      <td>0</td>\n",
       "      <td>1.020</td>\n",
       "      <td>-0.144</td>\n",
       "      <td>-0.0392</td>\n",
       "      <td>-41.6</td>\n",
       "      <td>12.6</td>\n",
       "      <td>-11.500</td>\n",
       "      <td>-0.725</td>\n",
       "      <td>0.237</td>\n",
       "      <td>-0.649</td>\n",
       "      <td>...</td>\n",
       "      <td>1.0</td>\n",
       "      <td>1.0</td>\n",
       "      <td>0.0</td>\n",
       "      <td>0.0</td>\n",
       "      <td>1.0</td>\n",
       "      <td>1.0</td>\n",
       "      <td>1.0</td>\n",
       "      <td>1.0</td>\n",
       "      <td>0.0</td>\n",
       "      <td>cereals</td>\n",
       "    </tr>\n",
       "    <tr>\n",
       "      <th>1</th>\n",
       "      <td>1</td>\n",
       "      <td>0.931</td>\n",
       "      <td>-0.046</td>\n",
       "      <td>0.0547</td>\n",
       "      <td>-13.3</td>\n",
       "      <td>45.4</td>\n",
       "      <td>-5.730</td>\n",
       "      <td>-0.671</td>\n",
       "      <td>0.231</td>\n",
       "      <td>-0.748</td>\n",
       "      <td>...</td>\n",
       "      <td>1.0</td>\n",
       "      <td>1.0</td>\n",
       "      <td>0.0</td>\n",
       "      <td>0.0</td>\n",
       "      <td>1.0</td>\n",
       "      <td>1.0</td>\n",
       "      <td>1.0</td>\n",
       "      <td>1.0</td>\n",
       "      <td>0.0</td>\n",
       "      <td>cereals</td>\n",
       "    </tr>\n",
       "    <tr>\n",
       "      <th>2</th>\n",
       "      <td>2</td>\n",
       "      <td>0.877</td>\n",
       "      <td>-0.107</td>\n",
       "      <td>-0.1520</td>\n",
       "      <td>-42.0</td>\n",
       "      <td>20.7</td>\n",
       "      <td>-0.854</td>\n",
       "      <td>-0.780</td>\n",
       "      <td>0.197</td>\n",
       "      <td>-0.713</td>\n",
       "      <td>...</td>\n",
       "      <td>1.0</td>\n",
       "      <td>1.0</td>\n",
       "      <td>0.0</td>\n",
       "      <td>0.0</td>\n",
       "      <td>1.0</td>\n",
       "      <td>1.0</td>\n",
       "      <td>1.0</td>\n",
       "      <td>1.0</td>\n",
       "      <td>0.0</td>\n",
       "      <td>cereals</td>\n",
       "    </tr>\n",
       "    <tr>\n",
       "      <th>3</th>\n",
       "      <td>3</td>\n",
       "      <td>0.877</td>\n",
       "      <td>-0.107</td>\n",
       "      <td>-0.1520</td>\n",
       "      <td>-42.0</td>\n",
       "      <td>20.7</td>\n",
       "      <td>-0.854</td>\n",
       "      <td>-0.818</td>\n",
       "      <td>0.169</td>\n",
       "      <td>-0.727</td>\n",
       "      <td>...</td>\n",
       "      <td>1.0</td>\n",
       "      <td>1.0</td>\n",
       "      <td>0.0</td>\n",
       "      <td>0.0</td>\n",
       "      <td>1.0</td>\n",
       "      <td>1.0</td>\n",
       "      <td>1.0</td>\n",
       "      <td>1.0</td>\n",
       "      <td>0.0</td>\n",
       "      <td>cereals</td>\n",
       "    </tr>\n",
       "    <tr>\n",
       "      <th>4</th>\n",
       "      <td>4</td>\n",
       "      <td>1.090</td>\n",
       "      <td>0.040</td>\n",
       "      <td>0.0464</td>\n",
       "      <td>-16.6</td>\n",
       "      <td>-19.3</td>\n",
       "      <td>4.270</td>\n",
       "      <td>-0.798</td>\n",
       "      <td>0.172</td>\n",
       "      <td>-0.695</td>\n",
       "      <td>...</td>\n",
       "      <td>1.0</td>\n",
       "      <td>1.0</td>\n",
       "      <td>0.0</td>\n",
       "      <td>0.0</td>\n",
       "      <td>1.0</td>\n",
       "      <td>1.0</td>\n",
       "      <td>1.0</td>\n",
       "      <td>1.0</td>\n",
       "      <td>0.0</td>\n",
       "      <td>cereals</td>\n",
       "    </tr>\n",
       "  </tbody>\n",
       "</table>\n",
       "<p>5 rows × 25 columns</p>\n",
       "</div>"
      ],
      "text/plain": [
       "   Unnamed: 0  Waist_accX  Waist_accY  Waist_accZ  Waist_gyroX  Waist_gyroY  \\\n",
       "0           0       1.020      -0.144     -0.0392        -41.6         12.6   \n",
       "1           1       0.931      -0.046      0.0547        -13.3         45.4   \n",
       "2           2       0.877      -0.107     -0.1520        -42.0         20.7   \n",
       "3           3       0.877      -0.107     -0.1520        -42.0         20.7   \n",
       "4           4       1.090       0.040      0.0464        -16.6        -19.3   \n",
       "\n",
       "   Waist_gyroZ  Wrist_accX  Wrist_accY  Wrist_accZ  ...  Ktch_Motion_1  \\\n",
       "0      -11.500      -0.725       0.237      -0.649  ...            1.0   \n",
       "1       -5.730      -0.671       0.231      -0.748  ...            1.0   \n",
       "2       -0.854      -0.780       0.197      -0.713  ...            1.0   \n",
       "3       -0.854      -0.818       0.169      -0.727  ...            1.0   \n",
       "4        4.270      -0.798       0.172      -0.695  ...            1.0   \n",
       "\n",
       "   Ktch_B1_Draw  Ktch_T2_Cupboard  Ktch_Motion_2  Ktch_T1_Cupboard  \\\n",
       "0           1.0               0.0            0.0               1.0   \n",
       "1           1.0               0.0            0.0               1.0   \n",
       "2           1.0               0.0            0.0               1.0   \n",
       "3           1.0               0.0            0.0               1.0   \n",
       "4           1.0               0.0            0.0               1.0   \n",
       "\n",
       "   Ktch_B2_Cupboard  Ktch_B3_Cupboard  Ktch_T3_Cupboard  TP_L_Power  \\\n",
       "0               1.0               1.0               1.0         0.0   \n",
       "1               1.0               1.0               1.0         0.0   \n",
       "2               1.0               1.0               1.0         0.0   \n",
       "3               1.0               1.0               1.0         0.0   \n",
       "4               1.0               1.0               1.0         0.0   \n",
       "\n",
       "   Target_class  \n",
       "0       cereals  \n",
       "1       cereals  \n",
       "2       cereals  \n",
       "3       cereals  \n",
       "4       cereals  \n",
       "\n",
       "[5 rows x 25 columns]"
      ]
     },
     "execution_count": 35,
     "metadata": {},
     "output_type": "execute_result"
    }
   ],
   "source": [
    "data.head()"
   ]
  },
  {
   "cell_type": "code",
   "execution_count": 36,
   "metadata": {},
   "outputs": [
    {
     "data": {
      "text/plain": [
       "Unnamed: 0            int64\n",
       "Waist_accX          float64\n",
       "Waist_accY          float64\n",
       "Waist_accZ          float64\n",
       "Waist_gyroX         float64\n",
       "Waist_gyroY         float64\n",
       "Waist_gyroZ         float64\n",
       "Wrist_accX          float64\n",
       "Wrist_accY          float64\n",
       "Wrist_accZ          float64\n",
       "Wrist_gyroX         float64\n",
       "Wrist_gyroY         float64\n",
       "Wrist_gyroZ         float64\n",
       "Ktch_T4_Cupboard    float64\n",
       "Ktch_B4_Cupboard    float64\n",
       "Ktch_Motion_1       float64\n",
       "Ktch_B1_Draw        float64\n",
       "Ktch_T2_Cupboard    float64\n",
       "Ktch_Motion_2       float64\n",
       "Ktch_T1_Cupboard    float64\n",
       "Ktch_B2_Cupboard    float64\n",
       "Ktch_B3_Cupboard    float64\n",
       "Ktch_T3_Cupboard    float64\n",
       "TP_L_Power          float64\n",
       "Target_class         object\n",
       "dtype: object"
      ]
     },
     "execution_count": 36,
     "metadata": {},
     "output_type": "execute_result"
    }
   ],
   "source": [
    "data.dtypes"
   ]
  },
  {
   "cell_type": "code",
   "execution_count": 37,
   "metadata": {},
   "outputs": [
    {
     "data": {
      "text/plain": [
       "Unnamed: 0          0\n",
       "Waist_accX          0\n",
       "Waist_accY          0\n",
       "Waist_accZ          0\n",
       "Waist_gyroX         0\n",
       "Waist_gyroY         0\n",
       "Waist_gyroZ         0\n",
       "Wrist_accX          0\n",
       "Wrist_accY          0\n",
       "Wrist_accZ          0\n",
       "Wrist_gyroX         0\n",
       "Wrist_gyroY         0\n",
       "Wrist_gyroZ         0\n",
       "Ktch_T4_Cupboard    0\n",
       "Ktch_B4_Cupboard    0\n",
       "Ktch_Motion_1       0\n",
       "Ktch_B1_Draw        0\n",
       "Ktch_T2_Cupboard    0\n",
       "Ktch_Motion_2       0\n",
       "Ktch_T1_Cupboard    0\n",
       "Ktch_B2_Cupboard    0\n",
       "Ktch_B3_Cupboard    0\n",
       "Ktch_T3_Cupboard    0\n",
       "TP_L_Power          0\n",
       "Target_class        0\n",
       "dtype: int64"
      ]
     },
     "execution_count": 37,
     "metadata": {},
     "output_type": "execute_result"
    }
   ],
   "source": [
    "data.isna().sum()"
   ]
  },
  {
   "cell_type": "code",
   "execution_count": 38,
   "metadata": {},
   "outputs": [
    {
     "data": {
      "text/html": [
       "<div>\n",
       "<style scoped>\n",
       "    .dataframe tbody tr th:only-of-type {\n",
       "        vertical-align: middle;\n",
       "    }\n",
       "\n",
       "    .dataframe tbody tr th {\n",
       "        vertical-align: top;\n",
       "    }\n",
       "\n",
       "    .dataframe thead th {\n",
       "        text-align: right;\n",
       "    }\n",
       "</style>\n",
       "<table border=\"1\" class=\"dataframe\">\n",
       "  <thead>\n",
       "    <tr style=\"text-align: right;\">\n",
       "      <th></th>\n",
       "      <th>Unnamed: 0</th>\n",
       "      <th>Waist_accX</th>\n",
       "      <th>Waist_accY</th>\n",
       "      <th>Waist_accZ</th>\n",
       "      <th>Waist_gyroX</th>\n",
       "      <th>Waist_gyroY</th>\n",
       "      <th>Waist_gyroZ</th>\n",
       "      <th>Wrist_accX</th>\n",
       "      <th>Wrist_accY</th>\n",
       "      <th>Wrist_accZ</th>\n",
       "      <th>...</th>\n",
       "      <th>Ktch_Motion_1</th>\n",
       "      <th>Ktch_B1_Draw</th>\n",
       "      <th>Ktch_T2_Cupboard</th>\n",
       "      <th>Ktch_Motion_2</th>\n",
       "      <th>Ktch_T1_Cupboard</th>\n",
       "      <th>Ktch_B2_Cupboard</th>\n",
       "      <th>Ktch_B3_Cupboard</th>\n",
       "      <th>Ktch_T3_Cupboard</th>\n",
       "      <th>TP_L_Power</th>\n",
       "      <th>Target_class</th>\n",
       "    </tr>\n",
       "  </thead>\n",
       "  <tbody>\n",
       "    <tr>\n",
       "      <th>0</th>\n",
       "      <td>0</td>\n",
       "      <td>1.020</td>\n",
       "      <td>-0.1440</td>\n",
       "      <td>-0.0392</td>\n",
       "      <td>-41.6</td>\n",
       "      <td>12.60</td>\n",
       "      <td>-11.500</td>\n",
       "      <td>-0.725</td>\n",
       "      <td>0.237</td>\n",
       "      <td>-0.649</td>\n",
       "      <td>...</td>\n",
       "      <td>1.0</td>\n",
       "      <td>1.0</td>\n",
       "      <td>0.0</td>\n",
       "      <td>0.0</td>\n",
       "      <td>1.0</td>\n",
       "      <td>1.0</td>\n",
       "      <td>1.0</td>\n",
       "      <td>1.0</td>\n",
       "      <td>0.0</td>\n",
       "      <td>cereals</td>\n",
       "    </tr>\n",
       "    <tr>\n",
       "      <th>1</th>\n",
       "      <td>1</td>\n",
       "      <td>0.931</td>\n",
       "      <td>-0.0460</td>\n",
       "      <td>0.0547</td>\n",
       "      <td>-13.3</td>\n",
       "      <td>45.40</td>\n",
       "      <td>-5.730</td>\n",
       "      <td>-0.671</td>\n",
       "      <td>0.231</td>\n",
       "      <td>-0.748</td>\n",
       "      <td>...</td>\n",
       "      <td>1.0</td>\n",
       "      <td>1.0</td>\n",
       "      <td>0.0</td>\n",
       "      <td>0.0</td>\n",
       "      <td>1.0</td>\n",
       "      <td>1.0</td>\n",
       "      <td>1.0</td>\n",
       "      <td>1.0</td>\n",
       "      <td>0.0</td>\n",
       "      <td>cereals</td>\n",
       "    </tr>\n",
       "    <tr>\n",
       "      <th>2</th>\n",
       "      <td>2</td>\n",
       "      <td>0.877</td>\n",
       "      <td>-0.1070</td>\n",
       "      <td>-0.1520</td>\n",
       "      <td>-42.0</td>\n",
       "      <td>20.70</td>\n",
       "      <td>-0.854</td>\n",
       "      <td>-0.780</td>\n",
       "      <td>0.197</td>\n",
       "      <td>-0.713</td>\n",
       "      <td>...</td>\n",
       "      <td>1.0</td>\n",
       "      <td>1.0</td>\n",
       "      <td>0.0</td>\n",
       "      <td>0.0</td>\n",
       "      <td>1.0</td>\n",
       "      <td>1.0</td>\n",
       "      <td>1.0</td>\n",
       "      <td>1.0</td>\n",
       "      <td>0.0</td>\n",
       "      <td>cereals</td>\n",
       "    </tr>\n",
       "    <tr>\n",
       "      <th>3</th>\n",
       "      <td>3</td>\n",
       "      <td>0.877</td>\n",
       "      <td>-0.1070</td>\n",
       "      <td>-0.1520</td>\n",
       "      <td>-42.0</td>\n",
       "      <td>20.70</td>\n",
       "      <td>-0.854</td>\n",
       "      <td>-0.818</td>\n",
       "      <td>0.169</td>\n",
       "      <td>-0.727</td>\n",
       "      <td>...</td>\n",
       "      <td>1.0</td>\n",
       "      <td>1.0</td>\n",
       "      <td>0.0</td>\n",
       "      <td>0.0</td>\n",
       "      <td>1.0</td>\n",
       "      <td>1.0</td>\n",
       "      <td>1.0</td>\n",
       "      <td>1.0</td>\n",
       "      <td>0.0</td>\n",
       "      <td>cereals</td>\n",
       "    </tr>\n",
       "    <tr>\n",
       "      <th>4</th>\n",
       "      <td>4</td>\n",
       "      <td>1.090</td>\n",
       "      <td>0.0400</td>\n",
       "      <td>0.0464</td>\n",
       "      <td>-16.6</td>\n",
       "      <td>-19.30</td>\n",
       "      <td>4.270</td>\n",
       "      <td>-0.798</td>\n",
       "      <td>0.172</td>\n",
       "      <td>-0.695</td>\n",
       "      <td>...</td>\n",
       "      <td>1.0</td>\n",
       "      <td>1.0</td>\n",
       "      <td>0.0</td>\n",
       "      <td>0.0</td>\n",
       "      <td>1.0</td>\n",
       "      <td>1.0</td>\n",
       "      <td>1.0</td>\n",
       "      <td>1.0</td>\n",
       "      <td>0.0</td>\n",
       "      <td>cereals</td>\n",
       "    </tr>\n",
       "    <tr>\n",
       "      <th>...</th>\n",
       "      <td>...</td>\n",
       "      <td>...</td>\n",
       "      <td>...</td>\n",
       "      <td>...</td>\n",
       "      <td>...</td>\n",
       "      <td>...</td>\n",
       "      <td>...</td>\n",
       "      <td>...</td>\n",
       "      <td>...</td>\n",
       "      <td>...</td>\n",
       "      <td>...</td>\n",
       "      <td>...</td>\n",
       "      <td>...</td>\n",
       "      <td>...</td>\n",
       "      <td>...</td>\n",
       "      <td>...</td>\n",
       "      <td>...</td>\n",
       "      <td>...</td>\n",
       "      <td>...</td>\n",
       "      <td>...</td>\n",
       "      <td>...</td>\n",
       "    </tr>\n",
       "    <tr>\n",
       "      <th>17078</th>\n",
       "      <td>17078</td>\n",
       "      <td>0.961</td>\n",
       "      <td>0.0573</td>\n",
       "      <td>-0.0876</td>\n",
       "      <td>-24.6</td>\n",
       "      <td>0.61</td>\n",
       "      <td>7.990</td>\n",
       "      <td>-1.530</td>\n",
       "      <td>-0.198</td>\n",
       "      <td>-0.187</td>\n",
       "      <td>...</td>\n",
       "      <td>1.0</td>\n",
       "      <td>1.0</td>\n",
       "      <td>0.0</td>\n",
       "      <td>0.0</td>\n",
       "      <td>1.0</td>\n",
       "      <td>1.0</td>\n",
       "      <td>1.0</td>\n",
       "      <td>1.0</td>\n",
       "      <td>0.0</td>\n",
       "      <td>tidy</td>\n",
       "    </tr>\n",
       "    <tr>\n",
       "      <th>17079</th>\n",
       "      <td>17079</td>\n",
       "      <td>0.977</td>\n",
       "      <td>0.0857</td>\n",
       "      <td>-0.0814</td>\n",
       "      <td>-22.4</td>\n",
       "      <td>-3.78</td>\n",
       "      <td>6.650</td>\n",
       "      <td>-1.530</td>\n",
       "      <td>-0.198</td>\n",
       "      <td>-0.187</td>\n",
       "      <td>...</td>\n",
       "      <td>1.0</td>\n",
       "      <td>1.0</td>\n",
       "      <td>0.0</td>\n",
       "      <td>0.0</td>\n",
       "      <td>1.0</td>\n",
       "      <td>1.0</td>\n",
       "      <td>1.0</td>\n",
       "      <td>1.0</td>\n",
       "      <td>0.0</td>\n",
       "      <td>tidy</td>\n",
       "    </tr>\n",
       "    <tr>\n",
       "      <th>17080</th>\n",
       "      <td>17080</td>\n",
       "      <td>0.967</td>\n",
       "      <td>0.0850</td>\n",
       "      <td>-0.0775</td>\n",
       "      <td>-24.5</td>\n",
       "      <td>-4.70</td>\n",
       "      <td>5.610</td>\n",
       "      <td>-1.400</td>\n",
       "      <td>-0.173</td>\n",
       "      <td>-0.146</td>\n",
       "      <td>...</td>\n",
       "      <td>1.0</td>\n",
       "      <td>1.0</td>\n",
       "      <td>0.0</td>\n",
       "      <td>0.0</td>\n",
       "      <td>1.0</td>\n",
       "      <td>1.0</td>\n",
       "      <td>1.0</td>\n",
       "      <td>1.0</td>\n",
       "      <td>0.0</td>\n",
       "      <td>tidy</td>\n",
       "    </tr>\n",
       "    <tr>\n",
       "      <th>17081</th>\n",
       "      <td>17081</td>\n",
       "      <td>0.932</td>\n",
       "      <td>0.0829</td>\n",
       "      <td>-0.0632</td>\n",
       "      <td>-29.5</td>\n",
       "      <td>-7.20</td>\n",
       "      <td>3.840</td>\n",
       "      <td>-1.050</td>\n",
       "      <td>-0.479</td>\n",
       "      <td>-0.124</td>\n",
       "      <td>...</td>\n",
       "      <td>1.0</td>\n",
       "      <td>1.0</td>\n",
       "      <td>0.0</td>\n",
       "      <td>0.0</td>\n",
       "      <td>1.0</td>\n",
       "      <td>1.0</td>\n",
       "      <td>1.0</td>\n",
       "      <td>1.0</td>\n",
       "      <td>0.0</td>\n",
       "      <td>tidy</td>\n",
       "    </tr>\n",
       "    <tr>\n",
       "      <th>17082</th>\n",
       "      <td>17082</td>\n",
       "      <td>0.926</td>\n",
       "      <td>0.0766</td>\n",
       "      <td>-0.0660</td>\n",
       "      <td>-32.0</td>\n",
       "      <td>-6.95</td>\n",
       "      <td>3.350</td>\n",
       "      <td>-0.698</td>\n",
       "      <td>-0.786</td>\n",
       "      <td>0.215</td>\n",
       "      <td>...</td>\n",
       "      <td>1.0</td>\n",
       "      <td>1.0</td>\n",
       "      <td>0.0</td>\n",
       "      <td>0.0</td>\n",
       "      <td>1.0</td>\n",
       "      <td>1.0</td>\n",
       "      <td>1.0</td>\n",
       "      <td>1.0</td>\n",
       "      <td>0.0</td>\n",
       "      <td>tidy</td>\n",
       "    </tr>\n",
       "  </tbody>\n",
       "</table>\n",
       "<p>17083 rows × 25 columns</p>\n",
       "</div>"
      ],
      "text/plain": [
       "       Unnamed: 0  Waist_accX  Waist_accY  Waist_accZ  Waist_gyroX  \\\n",
       "0               0       1.020     -0.1440     -0.0392        -41.6   \n",
       "1               1       0.931     -0.0460      0.0547        -13.3   \n",
       "2               2       0.877     -0.1070     -0.1520        -42.0   \n",
       "3               3       0.877     -0.1070     -0.1520        -42.0   \n",
       "4               4       1.090      0.0400      0.0464        -16.6   \n",
       "...           ...         ...         ...         ...          ...   \n",
       "17078       17078       0.961      0.0573     -0.0876        -24.6   \n",
       "17079       17079       0.977      0.0857     -0.0814        -22.4   \n",
       "17080       17080       0.967      0.0850     -0.0775        -24.5   \n",
       "17081       17081       0.932      0.0829     -0.0632        -29.5   \n",
       "17082       17082       0.926      0.0766     -0.0660        -32.0   \n",
       "\n",
       "       Waist_gyroY  Waist_gyroZ  Wrist_accX  Wrist_accY  Wrist_accZ  ...  \\\n",
       "0            12.60      -11.500      -0.725       0.237      -0.649  ...   \n",
       "1            45.40       -5.730      -0.671       0.231      -0.748  ...   \n",
       "2            20.70       -0.854      -0.780       0.197      -0.713  ...   \n",
       "3            20.70       -0.854      -0.818       0.169      -0.727  ...   \n",
       "4           -19.30        4.270      -0.798       0.172      -0.695  ...   \n",
       "...            ...          ...         ...         ...         ...  ...   \n",
       "17078         0.61        7.990      -1.530      -0.198      -0.187  ...   \n",
       "17079        -3.78        6.650      -1.530      -0.198      -0.187  ...   \n",
       "17080        -4.70        5.610      -1.400      -0.173      -0.146  ...   \n",
       "17081        -7.20        3.840      -1.050      -0.479      -0.124  ...   \n",
       "17082        -6.95        3.350      -0.698      -0.786       0.215  ...   \n",
       "\n",
       "       Ktch_Motion_1  Ktch_B1_Draw  Ktch_T2_Cupboard  Ktch_Motion_2  \\\n",
       "0                1.0           1.0               0.0            0.0   \n",
       "1                1.0           1.0               0.0            0.0   \n",
       "2                1.0           1.0               0.0            0.0   \n",
       "3                1.0           1.0               0.0            0.0   \n",
       "4                1.0           1.0               0.0            0.0   \n",
       "...              ...           ...               ...            ...   \n",
       "17078            1.0           1.0               0.0            0.0   \n",
       "17079            1.0           1.0               0.0            0.0   \n",
       "17080            1.0           1.0               0.0            0.0   \n",
       "17081            1.0           1.0               0.0            0.0   \n",
       "17082            1.0           1.0               0.0            0.0   \n",
       "\n",
       "       Ktch_T1_Cupboard  Ktch_B2_Cupboard  Ktch_B3_Cupboard  Ktch_T3_Cupboard  \\\n",
       "0                   1.0               1.0               1.0               1.0   \n",
       "1                   1.0               1.0               1.0               1.0   \n",
       "2                   1.0               1.0               1.0               1.0   \n",
       "3                   1.0               1.0               1.0               1.0   \n",
       "4                   1.0               1.0               1.0               1.0   \n",
       "...                 ...               ...               ...               ...   \n",
       "17078               1.0               1.0               1.0               1.0   \n",
       "17079               1.0               1.0               1.0               1.0   \n",
       "17080               1.0               1.0               1.0               1.0   \n",
       "17081               1.0               1.0               1.0               1.0   \n",
       "17082               1.0               1.0               1.0               1.0   \n",
       "\n",
       "       TP_L_Power  Target_class  \n",
       "0             0.0       cereals  \n",
       "1             0.0       cereals  \n",
       "2             0.0       cereals  \n",
       "3             0.0       cereals  \n",
       "4             0.0       cereals  \n",
       "...           ...           ...  \n",
       "17078         0.0          tidy  \n",
       "17079         0.0          tidy  \n",
       "17080         0.0          tidy  \n",
       "17081         0.0          tidy  \n",
       "17082         0.0          tidy  \n",
       "\n",
       "[17083 rows x 25 columns]"
      ]
     },
     "execution_count": 38,
     "metadata": {},
     "output_type": "execute_result"
    }
   ],
   "source": [
    "data"
   ]
  },
  {
   "cell_type": "code",
   "execution_count": 39,
   "metadata": {},
   "outputs": [],
   "source": [
    "X=data.drop(axis=0,columns=['Target_class'])\n",
    "Y=data['Target_class']"
   ]
  },
  {
   "cell_type": "code",
   "execution_count": 40,
   "metadata": {},
   "outputs": [
    {
     "data": {
      "text/plain": [
       "(17083, 24)"
      ]
     },
     "execution_count": 40,
     "metadata": {},
     "output_type": "execute_result"
    }
   ],
   "source": [
    "X.shape"
   ]
  },
  {
   "cell_type": "code",
   "execution_count": 41,
   "metadata": {},
   "outputs": [
    {
     "data": {
      "text/plain": [
       "(17083,)"
      ]
     },
     "execution_count": 41,
     "metadata": {},
     "output_type": "execute_result"
    }
   ],
   "source": [
    "Y.shape"
   ]
  },
  {
   "cell_type": "code",
   "execution_count": 42,
   "metadata": {},
   "outputs": [],
   "source": [
    "x_train,x_test,y_train,y_test = train_test_split(X,Y,stratify=Y,random_state=10,test_size=0.2)"
   ]
  },
  {
   "cell_type": "code",
   "execution_count": 43,
   "metadata": {},
   "outputs": [
    {
     "data": {
      "text/plain": [
       "((13666, 24), (3417, 24), (13666,), (3417,))"
      ]
     },
     "execution_count": 43,
     "metadata": {},
     "output_type": "execute_result"
    }
   ],
   "source": [
    "x_train.shape,x_test.shape,y_train.shape,y_test.shape"
   ]
  },
  {
   "cell_type": "code",
   "execution_count": 44,
   "metadata": {},
   "outputs": [],
   "source": [
    "lb=preprocessing.LabelBinarizer()"
   ]
  },
  {
   "cell_type": "code",
   "execution_count": 45,
   "metadata": {},
   "outputs": [],
   "source": [
    "y_train=lb.fit_transform(y_train)\n",
    "y_test=lb.fit_transform(y_test)"
   ]
  },
  {
   "cell_type": "code",
   "execution_count": 46,
   "metadata": {},
   "outputs": [
    {
     "data": {
      "text/plain": [
       "Unnamed: 0            int64\n",
       "Waist_accX          float64\n",
       "Waist_accY          float64\n",
       "Waist_accZ          float64\n",
       "Waist_gyroX         float64\n",
       "Waist_gyroY         float64\n",
       "Waist_gyroZ         float64\n",
       "Wrist_accX          float64\n",
       "Wrist_accY          float64\n",
       "Wrist_accZ          float64\n",
       "Wrist_gyroX         float64\n",
       "Wrist_gyroY         float64\n",
       "Wrist_gyroZ         float64\n",
       "Ktch_T4_Cupboard    float64\n",
       "Ktch_B4_Cupboard    float64\n",
       "Ktch_Motion_1       float64\n",
       "Ktch_B1_Draw        float64\n",
       "Ktch_T2_Cupboard    float64\n",
       "Ktch_Motion_2       float64\n",
       "Ktch_T1_Cupboard    float64\n",
       "Ktch_B2_Cupboard    float64\n",
       "Ktch_B3_Cupboard    float64\n",
       "Ktch_T3_Cupboard    float64\n",
       "TP_L_Power          float64\n",
       "dtype: object"
      ]
     },
     "execution_count": 46,
     "metadata": {},
     "output_type": "execute_result"
    }
   ],
   "source": [
    "x_test.dtypes"
   ]
  },
  {
   "cell_type": "code",
   "execution_count": 47,
   "metadata": {},
   "outputs": [],
   "source": [
    "def model_builder(hp):\n",
    "  model = keras.Sequential()\n",
    "  # Tune the number of units in the first Dense layer\n",
    "  # Choose an optimal value between 32-512\n",
    "  hp_units = hp.Int('units', min_value=32, max_value=512, step=32)\n",
    "  hp_units2 = hp.Int('units2', min_value=32, max_value=512, step=32)\n",
    "  hp_units3 = hp.Int('units3', min_value=32, max_value=512, step=32)\n",
    "  \n",
    "  model.add(keras.layers.Dense(units=hp_units, activation='relu',input_shape = x_train.shape))\n",
    "  model.add(tf.keras.layers.Dense(units=hp_units2, activation='relu'))\n",
    "  model.add(tf.keras.layers.Dense(units=hp_units3, activation='relu'))\n",
    "  model.add(keras.layers.Dense(units=9,activation='softmax') )\n",
    "\n",
    "  # Tune the learning rate for the optimizer\n",
    "  # Choose an optimal value from 0.01, 0.001, or 0.0001\n",
    "  hp_learning_rate = hp.Choice('learning_rate', values=[1e-2, 1e-3, 1e-4])\n",
    "\n",
    "  model.compile(optimizer=keras.optimizers.Adam(learning_rate=hp_learning_rate),\n",
    "                loss='categorical_crossentropy',\n",
    "                metrics=['accuracy']\n",
    "\n",
    "  return model"
   ]
  },
  {
   "cell_type": "code",
   "execution_count": 48,
   "metadata": {},
   "outputs": [
    {
     "name": "stdout",
     "output_type": "stream",
     "text": [
      "INFO:tensorflow:Reloading Oracle from existing project mydocument13\\untitled_project\\oracle.json\n",
      "INFO:tensorflow:Reloading Tuner from mydocument13\\untitled_project\\tuner0.json\n"
     ]
    }
   ],
   "source": [
    "tuner =kt.RandomSearch( model_builder, objective=\"val_accuracy\", max_trials=3, directory='mydocument13')"
   ]
  },
  {
   "cell_type": "code",
   "execution_count": 49,
   "metadata": {},
   "outputs": [
    {
     "name": "stdout",
     "output_type": "stream",
     "text": [
      "Search space summary\n",
      "Default search space size: 4\n",
      "units (Int)\n",
      "{'default': None, 'conditions': [], 'min_value': 32, 'max_value': 512, 'step': 32, 'sampling': None}\n",
      "units2 (Int)\n",
      "{'default': None, 'conditions': [], 'min_value': 32, 'max_value': 512, 'step': 32, 'sampling': None}\n",
      "units3 (Int)\n",
      "{'default': None, 'conditions': [], 'min_value': 32, 'max_value': 512, 'step': 32, 'sampling': None}\n",
      "learning_rate (Choice)\n",
      "{'default': 0.01, 'conditions': [], 'values': [0.01, 0.001, 0.0001], 'ordered': True}\n"
     ]
    }
   ],
   "source": [
    "tuner.search_space_summary()"
   ]
  },
  {
   "cell_type": "code",
   "execution_count": 50,
   "metadata": {},
   "outputs": [],
   "source": [
    "new_y_train=np.array(y_train, dtype=np.float)"
   ]
  },
  {
   "cell_type": "code",
   "execution_count": 51,
   "metadata": {},
   "outputs": [
    {
     "name": "stdout",
     "output_type": "stream",
     "text": [
      "INFO:tensorflow:Oracle triggered exit\n"
     ]
    }
   ],
   "source": [
    "tuner.search( x_train,np.array(y_train, dtype=np.float), validation_data = (x_test,np.array(y_test, dtype=np.float)), epochs =50, verbose = True)\n",
    " "
   ]
  },
  {
   "cell_type": "code",
   "execution_count": 52,
   "metadata": {},
   "outputs": [],
   "source": [
    "# best_model = tuner.get_best_models(1)[0]"
   ]
  },
  {
   "cell_type": "code",
   "execution_count": 53,
   "metadata": {},
   "outputs": [],
   "source": [
    "# print(best_model)\n",
    "best_model = tuner.get_best_models(1)[0]"
   ]
  },
  {
   "cell_type": "code",
   "execution_count": 54,
   "metadata": {},
   "outputs": [
    {
     "name": "stdout",
     "output_type": "stream",
     "text": [
      "WARNING:tensorflow:Model was constructed with shape (None, 13666, 24) for input KerasTensor(type_spec=TensorSpec(shape=(None, 13666, 24), dtype=tf.float32, name='dense_input'), name='dense_input', description=\"created by layer 'dense_input'\"), but it was called on an input with incompatible shape (None, 24).\n"
     ]
    },
    {
     "data": {
      "text/plain": [
       "array(['smartphone', 'tea', 'sandwich', ..., 'smartphone', 'tidy',\n",
       "       'cereals'], dtype='<U10')"
      ]
     },
     "execution_count": 54,
     "metadata": {},
     "output_type": "execute_result"
    }
   ],
   "source": [
    "lb.inverse_transform(best_model.predict(x_test))"
   ]
  },
  {
   "cell_type": "code",
   "execution_count": 55,
   "metadata": {},
   "outputs": [
    {
     "data": {
      "text/plain": [
       "array(['smartphone', 'tea', 'sandwich', ..., 'smartphone', 'tidy',\n",
       "       'cereals'], dtype='<U10')"
      ]
     },
     "execution_count": 55,
     "metadata": {},
     "output_type": "execute_result"
    }
   ],
   "source": [
    "lb.inverse_transform(y_test)"
   ]
  },
  {
   "cell_type": "code",
   "execution_count": 56,
   "metadata": {},
   "outputs": [
    {
     "name": "stdout",
     "output_type": "stream",
     "text": [
      "The optimal number of units in the first densely-connected layer is 96, Second Dense layer is 96 , Third hidden layer is 384 and the optimal learning rate for the optimizer\n",
      "is 0.001.\n"
     ]
    }
   ],
   "source": [
    "# print(best_model)\n",
    "best_model = tuner.get_best_models(1)[0]\n",
    "\n",
    "best_hyperparameter=tuner.get_best_hyperparameters(num_trials=1)[0]\n",
    "\n",
    "print(f\"\"\"The optimal number of units in the first densely-connected layer is {best_hyperparameter.get('units')}, Second Dense layer is {best_hyperparameter.get('units2')} , Third hidden layer is {best_hyperparameter.get('units3')} and the optimal learning rate for the optimizer\n",
    "is {best_hyperparameter.get('learning_rate')}.\"\"\")"
   ]
  },
  {
   "cell_type": "code",
   "execution_count": 57,
   "metadata": {},
   "outputs": [],
   "source": [
    "# model = keras.Sequential()\n",
    "# # Tune the number of units in the first Dense layer\n",
    "# # Choose an optimal value between 32-512\n",
    "# # hp_units = hp.Int('units', min_value=32, max_value=512, step=32)\n",
    "# # #   hp_units1 = hp.Int('units1', min_value=32, max_value=512, step=32)\n",
    "# # hp_units2 = hp.Int('units2', min_value=32, max_value=512, step=32)\n",
    "# # hp_units3 = hp.Int('units3', min_value=32, max_value=512, step=32)\n",
    "\n",
    "# model.add(keras.layers.Dense(units=96, activation='relu',input_shape = x_train.shape))\n",
    "# model.add(tf.keras.layers.Dense(units=96, activation='relu'))\n",
    "# model.add(tf.keras.layers.Dense(units=384, activation='relu'))\n",
    "# model.add(keras.layers.Dense(units=9,activation='softmax') )\n",
    "\n",
    "# # Tune the learning rate for the optimizer\n",
    "# # Choose an optimal value from 0.01, 0.001, or 0.0001\n",
    "# #hp_learning_rate = hp.Choice('learning_rate', values=[1e-2, 1e-3, 1e-4])\n",
    "\n",
    "# model.compile(optimizer=keras.optimizers.Adam(learning_rate=0.001),\n",
    "#             loss='categorical_crossentropy',\n",
    "#             metrics=['accuracy'])"
   ]
  },
  {
   "cell_type": "code",
   "execution_count": 58,
   "metadata": {},
   "outputs": [
    {
     "ename": "AttributeError",
     "evalue": "'RandomSearch' object has no attribute 'fit'",
     "output_type": "error",
     "traceback": [
      "\u001b[1;31m---------------------------------------------------------------------------\u001b[0m",
      "\u001b[1;31mAttributeError\u001b[0m                            Traceback (most recent call last)",
      "\u001b[1;32m<ipython-input-58-81fc475627f3>\u001b[0m in \u001b[0;36m<module>\u001b[1;34m\u001b[0m\n\u001b[1;32m----> 1\u001b[1;33m \u001b[0mtuner\u001b[0m\u001b[1;33m.\u001b[0m\u001b[0mfit\u001b[0m\u001b[1;33m(\u001b[0m \u001b[0mx_train\u001b[0m\u001b[1;33m,\u001b[0m\u001b[0mnp\u001b[0m\u001b[1;33m.\u001b[0m\u001b[0marray\u001b[0m\u001b[1;33m(\u001b[0m\u001b[0my_train\u001b[0m\u001b[1;33m,\u001b[0m \u001b[0mdtype\u001b[0m\u001b[1;33m=\u001b[0m\u001b[0mnp\u001b[0m\u001b[1;33m.\u001b[0m\u001b[0mfloat\u001b[0m\u001b[1;33m)\u001b[0m\u001b[1;33m,\u001b[0m \u001b[0mvalidation_data\u001b[0m \u001b[1;33m=\u001b[0m \u001b[1;33m(\u001b[0m\u001b[0mx_test\u001b[0m\u001b[1;33m,\u001b[0m\u001b[0mnp\u001b[0m\u001b[1;33m.\u001b[0m\u001b[0marray\u001b[0m\u001b[1;33m(\u001b[0m\u001b[0my_test\u001b[0m\u001b[1;33m,\u001b[0m \u001b[0mdtype\u001b[0m\u001b[1;33m=\u001b[0m\u001b[0mnp\u001b[0m\u001b[1;33m.\u001b[0m\u001b[0mfloat\u001b[0m\u001b[1;33m)\u001b[0m\u001b[1;33m)\u001b[0m\u001b[1;33m,\u001b[0m \u001b[0mepochs\u001b[0m \u001b[1;33m=\u001b[0m\u001b[1;36m60\u001b[0m\u001b[1;33m,\u001b[0m \u001b[0mverbose\u001b[0m \u001b[1;33m=\u001b[0m \u001b[1;32mTrue\u001b[0m\u001b[1;33m)\u001b[0m\u001b[1;33m\u001b[0m\u001b[1;33m\u001b[0m\u001b[0m\n\u001b[0m",
      "\u001b[1;31mAttributeError\u001b[0m: 'RandomSearch' object has no attribute 'fit'"
     ]
    }
   ],
   "source": [
    "tuner.fit( x_train,np.array(y_train, dtype=np.float), validation_data = (x_test,np.array(y_test, dtype=np.float)), epochs =60, verbose = True)"
   ]
  },
  {
   "cell_type": "code",
   "execution_count": null,
   "metadata": {},
   "outputs": [],
   "source": [
    "best_model.summary()"
   ]
  },
  {
   "cell_type": "code",
   "execution_count": null,
   "metadata": {},
   "outputs": [],
   "source": [
    "y_pred = model.predict(x_test)\n",
    "y_pred = np.argmax(y_pred, axis=1)\n",
    "y_test = np.argmax(y_test, axis =1)"
   ]
  },
  {
   "cell_type": "code",
   "execution_count": null,
   "metadata": {},
   "outputs": [],
   "source": [
    "y_test"
   ]
  },
  {
   "cell_type": "code",
   "execution_count": null,
   "metadata": {},
   "outputs": [],
   "source": [
    "\n",
    "cm = confusion_matrix(y_test, y_pred)\n",
    "print(cm)"
   ]
  },
  {
   "cell_type": "code",
   "execution_count": null,
   "metadata": {},
   "outputs": [],
   "source": [
    "skplt.metrics.plot_confusion_matrix(y_test, y_pred, figsize=(10,10))"
   ]
  },
  {
   "cell_type": "code",
   "execution_count": 59,
   "metadata": {},
   "outputs": [
    {
     "name": "stdout",
     "output_type": "stream",
     "text": [
      "428/428 [==============================] - 0s 705us/step - loss: 0.1037 - accuracy: 0.9668\n"
     ]
    }
   ],
   "source": [
    "M_train_acc = model.evaluate(x_train, y_train, verbose=1)\n"
   ]
  },
  {
   "cell_type": "code",
   "execution_count": 60,
   "metadata": {},
   "outputs": [
    {
     "name": "stdout",
     "output_type": "stream",
     "text": [
      "The optimal number of units in the first densely-connected layer is 96, Second Dense layer is 96 , Third hidden layer is 384 and the optimal learning rate for the optimizer\n",
      "is 0.001.\n"
     ]
    }
   ],
   "source": [
    "best_hyperparameter=tuner.get_best_hyperparameters(num_trials=1)[0]\n",
    "\n",
    "print(f\"\"\"The optimal number of units in the first densely-connected layer is {best_hyperparameter.get('units')}, Second Dense layer is {best_hyperparameter.get('units2')} , Third hidden layer is {best_hyperparameter.get('units3')} and the optimal learning rate for the optimizer\n",
    "is {best_hyperparameter.get('learning_rate')}.\"\"\")"
   ]
  },
  {
   "cell_type": "code",
   "execution_count": null,
   "metadata": {},
   "outputs": [],
   "source": []
  }
 ],
 "metadata": {
  "kernelspec": {
   "display_name": "Python 3",
   "language": "python",
   "name": "python3"
  },
  "language_info": {
   "codemirror_mode": {
    "name": "ipython",
    "version": 3
   },
   "file_extension": ".py",
   "mimetype": "text/x-python",
   "name": "python",
   "nbconvert_exporter": "python",
   "pygments_lexer": "ipython3",
   "version": "3.8.3"
  }
 },
 "nbformat": 4,
 "nbformat_minor": 4
}
